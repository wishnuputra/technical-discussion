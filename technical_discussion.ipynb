{
  "nbformat": 4,
  "nbformat_minor": 0,
  "metadata": {
    "colab": {
      "provenance": [],
      "toc_visible": true,
      "gpuType": "T4",
      "authorship_tag": "ABX9TyOFt4kWj3JXUMzxBElJa7uq",
      "include_colab_link": true
    },
    "kernelspec": {
      "name": "python3",
      "display_name": "Python 3"
    },
    "language_info": {
      "name": "python"
    },
    "accelerator": "GPU"
  },
  "cells": [
    {
      "cell_type": "markdown",
      "metadata": {
        "id": "view-in-github",
        "colab_type": "text"
      },
      "source": [
        "<a href=\"https://colab.research.google.com/github/wishnuputra/technical-discussion/blob/main/technical_discussion.ipynb\" target=\"_parent\"><img src=\"https://colab.research.google.com/assets/colab-badge.svg\" alt=\"Open In Colab\"/></a>"
      ]
    },
    {
      "cell_type": "markdown",
      "source": [
        "#**Main Title**\n"
      ],
      "metadata": {
        "id": "Cd259RRt-Nuf"
      }
    },
    {
      "cell_type": "markdown",
      "source": [
        "###Learning Cloud"
      ],
      "metadata": {
        "id": "rsq5Xy-A9rMT"
      }
    },
    {
      "cell_type": "code",
      "execution_count": 1,
      "metadata": {
        "id": "DHCdmwZZ869d"
      },
      "outputs": [],
      "source": [
        "def hello():\n",
        "  return \"hey\""
      ]
    },
    {
      "cell_type": "code",
      "source": [
        "hello()"
      ],
      "metadata": {
        "colab": {
          "base_uri": "https://localhost:8080/",
          "height": 35
        },
        "id": "ElbapHIA9NLH",
        "outputId": "48432445-c782-48d2-995b-be6e58e878f7"
      },
      "execution_count": 2,
      "outputs": [
        {
          "output_type": "execute_result",
          "data": {
            "text/plain": [
              "'hey'"
            ],
            "application/vnd.google.colaboratory.intrinsic+json": {
              "type": "string"
            }
          },
          "metadata": {},
          "execution_count": 2
        }
      ]
    },
    {
      "cell_type": "markdown",
      "source": [
        "###EDA"
      ],
      "metadata": {
        "id": "EoWlRNa895bM"
      }
    },
    {
      "cell_type": "markdown",
      "source": [
        "Learn to use markdown\n",
        "* Step One\n",
        "* Step Two\n",
        "* Step Three\n"
      ],
      "metadata": {
        "id": "a6hIvirE-sW8"
      }
    },
    {
      "cell_type": "markdown",
      "source": [
        "###Model"
      ],
      "metadata": {
        "id": "6B_3yppL-DI1"
      }
    },
    {
      "cell_type": "markdown",
      "source": [
        "##Conclusion"
      ],
      "metadata": {
        "id": "SznbTXsb-Kub"
      }
    }
  ]
}